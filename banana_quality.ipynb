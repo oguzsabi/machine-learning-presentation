{
 "cells": [
  {
   "cell_type": "code",
   "execution_count": 7,
   "metadata": {},
   "outputs": [
    {
     "name": "stdout",
     "output_type": "stream",
     "text": [
      "          Size    Weight  Sweetness  Softness  HarvestTime  Ripeness  \\\n",
      "40   -2.148932  0.372681   5.752867 -1.286756    -1.778054  0.609732   \n",
      "103   0.349277  1.068333   5.115295 -1.086893    -0.956476  0.452616   \n",
      "106   0.438483  1.334073   6.211078 -1.237290    -0.658108  2.181343   \n",
      "182  -1.828168  0.996649   5.360637 -1.321495    -1.546096 -0.329171   \n",
      "189   0.250269  2.426638   5.986969  2.090100    -0.578864 -1.025476   \n",
      "...        ...       ...        ...       ...          ...       ...   \n",
      "7522  2.736667 -1.927756  -4.307352  1.213925     0.338275 -6.392600   \n",
      "7553 -0.034316 -2.921958  -5.893079  1.524119     1.552202 -5.818229   \n",
      "7655  0.936073 -8.283002  -4.327517  1.805262    -3.020747 -4.524598   \n",
      "7750  1.562603 -1.099128  -2.444837  1.487009     1.299293 -5.783597   \n",
      "7876  2.177507 -4.962810  -3.659430  1.569804    -0.599212 -6.092226   \n",
      "\n",
      "       Acidity Quality  \n",
      "40    2.496089    Good  \n",
      "103   3.244548    Good  \n",
      "106   1.419293    Good  \n",
      "182   0.402788    Good  \n",
      "189   4.652922    Good  \n",
      "...        ...     ...  \n",
      "7522  1.895300     Bad  \n",
      "7553  2.666682     Bad  \n",
      "7655 -3.000530     Bad  \n",
      "7750  1.815344     Bad  \n",
      "7876 -1.029556     Bad  \n",
      "\n",
      "[104 rows x 8 columns]\n"
     ]
    }
   ],
   "source": [
    "import pandas as pd\n",
    "import numpy as np\n",
    "import matplotlib.pyplot as plt\n",
    "import seaborn as sns\n",
    "\n",
    "from sklearn.metrics import confusion_matrix\n",
    "from sklearn.model_selection import train_test_split\n",
    "from sklearn.metrics import accuracy_score, precision_score, recall_score, f1_score\n",
    "from sklearn.preprocessing import LabelEncoder\n",
    "from sklearn.linear_model import LogisticRegression\n",
    "from sklearn.svm import SVC\n",
    "from sklearn.ensemble import RandomForestClassifier\n",
    "from scipy import stats\n",
    "\n",
    "# Load the dataset\n",
    "file_path = './datasets/banana_quality.csv'\n",
    "data = pd.read_csv(file_path, encoding='ISO-8859-1')\n",
    "\n",
    "# Calculate Z-scores\n",
    "z_scores = stats.zscore(data.drop('Quality', axis=1))\n",
    "outliers = (np.abs(z_scores) > 3).any(axis=1)\n",
    "print(data[outliers])\n",
    "\n",
    "data_selected = data[~outliers]\n",
    "numerical_cols = data_selected.drop('Quality', axis=1).columns.values\n",
    "\n",
    "le = LabelEncoder()\n",
    "\n",
    "X = data_selected.drop('Quality', axis=1)\n",
    "y = le.fit_transform(data_selected['Quality'])\n",
    "\n",
    "X_train, X_test, y_train, y_test = train_test_split(X, y, test_size=0.2, random_state=42)"
   ]
  },
  {
   "cell_type": "code",
   "execution_count": 8,
   "metadata": {},
   "outputs": [
    {
     "name": "stdout",
     "output_type": "stream",
     "text": [
      "Quality\n",
      "Good    4006\n",
      "Bad     3994\n",
      "Name: count, dtype: int64\n"
     ]
    }
   ],
   "source": [
    "quality_counts = data['Quality'].value_counts()\n",
    "print(quality_counts)"
   ]
  },
  {
   "cell_type": "code",
   "execution_count": 17,
   "metadata": {},
   "outputs": [
    {
     "name": "stdout",
     "output_type": "stream",
     "text": [
      "Logistic Regression: Accuracy = 0.878, Precision = 0.881, Recall = 0.886, F1 = 0.884\n"
     ]
    },
    {
     "data": {
      "image/png": "[encoded data removed]",
      "text/plain": [
       "<Figure size 1000x700 with 2 Axes>"
      ]
     },
     "metadata": {},
     "output_type": "display_data"
    }
   ],
   "source": [
    "# Create a Logistic Regression model\n",
    "logreg_model = LogisticRegression()\n",
    "logreg_model.fit(X_train, y_train)\n",
    "logreg_predictions = logreg_model.predict(X_test)\n",
    "\n",
    "# Calculate metrics for Logistic Regression\n",
    "logreg_accuracy = accuracy_score(y_test, logreg_predictions)\n",
    "logreg_precision = precision_score(y_test, logreg_predictions)\n",
    "logreg_recall = recall_score(y_test, logreg_predictions)\n",
    "logreg_f1 = f1_score(y_test, logreg_predictions)\n",
    "\n",
    "print(\"Logistic Regression: Accuracy = %.3f, Precision = %.3f, Recall = %.3f, F1 = %.3f\" % (logreg_accuracy, logreg_precision, logreg_recall, logreg_f1))\n",
    "\n",
    "# Compute confusion matrix\n",
    "cnf_matrix = confusion_matrix(y_test, logreg_predictions)\n",
    "\n",
    "# Define the labels\n",
    "labels = ['TN','FP','FN','TP']\n",
    "labels = np.asarray(labels).reshape(2,2)\n",
    "\n",
    "# Combine labels and confusion matrix values\n",
    "labels = (np.asarray([\"{0}\\n{1}\".format(label, value)\n",
    "                      for label, value in zip(labels.flatten(), cnf_matrix.flatten())])\n",
    "         ).reshape(2,2)\n",
    "\n",
    "# Plot confusion matrix with seaborn\n",
    "plt.figure(figsize=(10,7))\n",
    "sns.heatmap(cnf_matrix, annot=labels, fmt='', cmap='Blues')\n",
    "plt.xlabel('Predicted')\n",
    "plt.ylabel('Actual')\n",
    "plt.show()"
   ]
  },
  {
   "cell_type": "code",
   "execution_count": 10,
   "metadata": {},
   "outputs": [
    {
     "name": "stdout",
     "output_type": "stream",
     "text": [
      "Support Vector Classifier: Accuracy = 0.984, Precision = 0.987, Recall = 0.983, F1 = 0.985\n"
     ]
    }
   ],
   "source": [
    "\n",
    "\n",
    "# Create a Support Vector Classifier model\n",
    "svc_model = SVC()\n",
    "svc_model.fit(X_train, y_train)\n",
    "svc_predictions = svc_model.predict(X_test)\n",
    "\n",
    "# Calculate metrics for Support Vector Classifier\n",
    "svc_accuracy = accuracy_score(y_test, svc_predictions)\n",
    "svc_precision = precision_score(y_test, svc_predictions)\n",
    "svc_recall = recall_score(y_test, svc_predictions)\n",
    "svc_f1 = f1_score(y_test, svc_predictions)\n",
    "\n",
    "print(\"Support Vector Classifier: Accuracy = %.3f, Precision = %.3f, Recall = %.3f, F1 = %.3f\" % (svc_accuracy, svc_precision, svc_recall, svc_f1))"
   ]
  },
  {
   "cell_type": "code",
   "execution_count": 11,
   "metadata": {},
   "outputs": [
    {
     "name": "stdout",
     "output_type": "stream",
     "text": [
      "Random Forest Classifier: Accuracy = 0.968, Precision = 0.969, Recall = 0.970, F1 = 0.969\n"
     ]
    }
   ],
   "source": [
    "\n",
    "# Create a Random Forest Classifier model\n",
    "rfc_model = RandomForestClassifier()\n",
    "rfc_model.fit(X_train, y_train)\n",
    "rfc_predictions = rfc_model.predict(X_test)\n",
    "\n",
    "# Calculate metrics for Random Forest Classifier\n",
    "rfc_accuracy = accuracy_score(y_test, rfc_predictions)\n",
    "rfc_precision = precision_score(y_test, rfc_predictions)\n",
    "rfc_recall = recall_score(y_test, rfc_predictions)\n",
    "rfc_f1 = f1_score(y_test, rfc_predictions)\n",
    "\n",
    "print(\"Random Forest Classifier: Accuracy = %.3f, Precision = %.3f, Recall = %.3f, F1 = %.3f\" % (rfc_accuracy, rfc_precision, rfc_recall, rfc_f1))"
   ]
  }
 ],
 "metadata": {
  "kernelspec": {
   "display_name": "venv",
   "language": "python",
   "name": "python3"
  },
  "language_info": {
   "codemirror_mode": {
    "name": "ipython",
    "version": 3
   },
   "file_extension": ".py",
   "mimetype": "text/x-python",
   "name": "python",
   "nbconvert_exporter": "python",
   "pygments_lexer": "ipython3",
   "version": "3.10.13"
  }
 },
 "nbformat": 4,
 "nbformat_minor": 2
}
